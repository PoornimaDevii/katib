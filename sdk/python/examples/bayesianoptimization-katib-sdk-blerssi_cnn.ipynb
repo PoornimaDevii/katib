{
 "cells": [
  {
   "cell_type": "markdown",
   "metadata": {},
   "source": [
    "## Change Directory to Main Katib folder"
   ]
  },
  {
   "cell_type": "code",
   "execution_count": 1,
   "metadata": {},
   "outputs": [
    {
     "name": "stdout",
     "output_type": "stream",
     "text": [
      "/root/katib/sdk/python\n"
     ]
    }
   ],
   "source": [
    "cd /root/katib/sdk/python"
   ]
  },
  {
   "cell_type": "markdown",
   "metadata": {},
   "source": [
    "## Install Katib SDK"
   ]
  },
  {
   "cell_type": "code",
   "execution_count": 2,
   "metadata": {},
   "outputs": [],
   "source": [
    "! python setup.py install"
   ]
  },
  {
   "cell_type": "markdown",
   "metadata": {},
   "source": [
    "## Import Required Libraries"
   ]
  },
  {
   "cell_type": "code",
   "execution_count": 3,
   "metadata": {},
   "outputs": [],
   "source": [
    "from kubernetes.client import V1PodTemplateSpec\n",
    "from kubernetes.client import V1ObjectMeta\n",
    "from kubernetes.client import V1PodSpec\n",
    "from kubernetes.client import V1Container"
   ]
  },
  {
   "cell_type": "code",
   "execution_count": 4,
   "metadata": {
    "scrolled": true
   },
   "outputs": [],
   "source": [
    "import kubeflow.katib as kc\n",
    "from kubeflow.katib import constants\n",
    "from kubeflow.katib import utils\n",
    "from kubeflow.katib import V1alpha3AlgorithmSetting\n",
    "from kubeflow.katib import V1alpha3AlgorithmSetting\n",
    "from kubeflow.katib import V1alpha3AlgorithmSpec\n",
    "from kubeflow.katib import V1alpha3CollectorSpec\n",
    "from kubeflow.katib import V1alpha3EarlyStoppingSetting\n",
    "from kubeflow.katib import V1alpha3EarlyStoppingSpec\n",
    "from kubeflow.katib import V1alpha3Experiment\n",
    "from kubeflow.katib import V1alpha3ExperimentCondition\n",
    "from kubeflow.katib import V1alpha3ExperimentList\n",
    "from kubeflow.katib import V1alpha3ExperimentSpec\n",
    "from kubeflow.katib import V1alpha3ExperimentStatus\n",
    "from kubeflow.katib import V1alpha3FeasibleSpace\n",
    "from kubeflow.katib import V1alpha3FileSystemPath\n",
    "from kubeflow.katib import V1alpha3FilterSpec\n",
    "from kubeflow.katib import V1alpha3GoTemplate\n",
    "from kubeflow.katib import V1alpha3GraphConfig\n",
    "from kubeflow.katib import V1alpha3Metric\n",
    "from kubeflow.katib import V1alpha3MetricsCollectorSpec\n",
    "from kubeflow.katib import V1alpha3NasConfig\n",
    "from kubeflow.katib import V1alpha3ObjectiveSpec\n",
    "from kubeflow.katib import V1alpha3Observation\n",
    "from kubeflow.katib import V1alpha3Operation\n",
    "from kubeflow.katib import V1alpha3OptimalTrial\n",
    "from kubeflow.katib import V1alpha3ParameterAssignment\n",
    "from kubeflow.katib import V1alpha3ParameterSpec\n",
    "from kubeflow.katib import V1alpha3SourceSpec\n",
    "from kubeflow.katib import V1alpha3Suggestion\n",
    "from kubeflow.katib import V1alpha3SuggestionCondition\n",
    "from kubeflow.katib import V1alpha3SuggestionList\n",
    "from kubeflow.katib import V1alpha3SuggestionSpec\n",
    "from kubeflow.katib import V1alpha3SuggestionStatus\n",
    "from kubeflow.katib import V1alpha3TemplateSpec\n",
    "from kubeflow.katib import V1alpha3Trial\n",
    "from kubeflow.katib import V1alpha3TrialAssignment\n",
    "from kubeflow.katib import V1alpha3TrialCondition\n",
    "from kubeflow.katib import V1alpha3TrialList\n",
    "from kubeflow.katib import V1alpha3TrialSpec\n",
    "from kubeflow.katib import V1alpha3TrialStatus\n",
    "from kubeflow.katib import V1alpha3TrialTemplate"
   ]
  },
  {
   "cell_type": "markdown",
   "metadata": {},
   "source": [
    "## Define Experiment related Specs"
   ]
  },
  {
   "cell_type": "code",
   "execution_count": 5,
   "metadata": {},
   "outputs": [],
   "source": [
    "algorithmsettings = V1alpha3AlgorithmSetting(\n",
    "    name= \"burn_in\",\n",
    "    value = \"5\"\n",
    "    )\n",
    "algorithm = V1alpha3AlgorithmSpec(\n",
    "    algorithm_name = \"bayesianoptimization\",\n",
    "    algorithm_settings = [algorithmsettings]\n",
    "  )\n",
    "\n",
    "# Metric Collector\n",
    "collector = V1alpha3CollectorSpec(kind = \"KerasEvent\")\n",
    "FileSystemPath = V1alpha3FileSystemPath(kind = \"/train\" , path = \"Directory\")\n",
    "metrics_collector_spec = V1alpha3MetricsCollectorSpec(\n",
    "    collector = collector,\n",
    "    source = FileSystemPath)\n",
    "\n",
    "# Objective\n",
    "objective = V1alpha3ObjectiveSpec(\n",
    "    goal = 1.3,\n",
    "    objective_metric_name = \"l2_loss\",\n",
    "    type = \"minimize\")\n",
    "\n",
    "# Parameters\n",
    "\n",
    "feasible_space_learning_rate = V1alpha3FeasibleSpace(min = \"0.001\", max = \"0.002\")\n",
    "feasible_space_beta1 = V1alpha3FeasibleSpace(min = \"0.88\", max = \"0.93\")\n",
    "\n",
    "parameters = [V1alpha3ParameterSpec(\n",
    "    feasible_space = feasible_space_learning_rate, \n",
    "    name = \"--learning_rate\",\n",
    "    parameter_type =\"double\"\n",
    "    ),\n",
    "    V1alpha3ParameterSpec(\n",
    "    feasible_space = feasible_space_beta1, \n",
    "    name = \"--beta1\",\n",
    "    parameter_type = \"double\"\n",
    "    )]\n",
    "\n",
    "# Trialtemplate\n",
    "go_template = V1alpha3GoTemplate(\n",
    "    raw_template =   \"apiVersion: \\\"batch/v1\\\"\\nkind: Job\\nmetadata:\\n  name: {{.Trial}}\\n  namespace: {{.NameSpace}}\\nspec:\\n  template:\\n    spec:\\n      containers:\\n      - name: {{.Trial}}\\n        image: docker.io/johnugeorge/cnn-blerssi:0.3\\n        command:\\n        - \\\"python3\\\"\\n        - \\\"/opt/blerssi-cnn-adam.py\\\"\\n        {{- with .HyperParameters}}\\n        {{- range .}}\\n        - \\\"{{.Name}}={{.Value}}\\\"\\n        {{- end}}\\n        {{- end}}\\n      restartPolicy: Never\"\n",
    "    )\n",
    "\n",
    "\n",
    "trial_template= V1alpha3TrialTemplate(go_template=go_template)\n",
    "\n",
    "\n",
    "# Experiment\n",
    "experiment = V1alpha3Experiment(\n",
    "    api_version=\"kubeflow.org/v1alpha3\",\n",
    "    kind=\"Experiment\",\n",
    "    metadata=V1ObjectMeta(name=\"blerssi-bayesopt\",namespace=\"anonymous\"),\n",
    "\n",
    "    spec=V1alpha3ExperimentSpec(\n",
    "         algorithm = algorithm,\n",
    "         max_failed_trial_count=9,\n",
    "         max_trial_count=12,\n",
    "         objective = objective,\n",
    "         parallel_trial_count=2,\n",
    "         parameters = parameters ,\n",
    "         trial_template = trial_template\n",
    "    )\n",
    ")"
   ]
  },
  {
   "cell_type": "code",
   "execution_count": 6,
   "metadata": {},
   "outputs": [],
   "source": [
    "namespace = kc.utils.get_default_target_namespace()"
   ]
  },
  {
   "cell_type": "code",
   "execution_count": 7,
   "metadata": {},
   "outputs": [],
   "source": [
    "kclient = kc.KatibClient()"
   ]
  },
  {
   "cell_type": "markdown",
   "metadata": {},
   "source": [
    "## Create Experiment"
   ]
  },
  {
   "cell_type": "code",
   "execution_count": 8,
   "metadata": {},
   "outputs": [
    {
     "data": {
      "text/html": [
       "Katib Experiment link <a href=\"/_/katib/#/katib/hp_monitor/anonymous/blerssi-bayesopt\" target=\"_blank\">here</a>"
      ],
      "text/plain": [
       "<IPython.core.display.HTML object>"
      ]
     },
     "metadata": {},
     "output_type": "display_data"
    },
    {
     "data": {
      "text/plain": [
       "{'apiVersion': 'kubeflow.org/v1alpha3',\n",
       " 'kind': 'Experiment',\n",
       " 'metadata': {'creationTimestamp': '2020-03-31T06:39:14Z',\n",
       "  'generation': 1,\n",
       "  'name': 'blerssi-bayesopt',\n",
       "  'namespace': 'anonymous',\n",
       "  'resourceVersion': '19224290',\n",
       "  'selfLink': '/apis/kubeflow.org/v1alpha3/namespaces/anonymous/experiments/blerssi-bayesopt',\n",
       "  'uid': '5638e930-731a-11ea-bedf-42010aa00fec'},\n",
       " 'spec': {'algorithm': {'algorithmName': 'bayesianoptimization',\n",
       "   'algorithmSettings': [{'name': 'burn_in', 'value': '5'}]},\n",
       "  'maxFailedTrialCount': 9,\n",
       "  'maxTrialCount': 12,\n",
       "  'metricsCollectorSpec': {'collector': {'kind': 'StdOut'}},\n",
       "  'objective': {'goal': 1.3,\n",
       "   'objectiveMetricName': 'l2_loss',\n",
       "   'type': 'minimize'},\n",
       "  'parallelTrialCount': 2,\n",
       "  'parameters': [{'feasibleSpace': {'max': '0.002', 'min': '0.001'},\n",
       "    'name': '--learning_rate',\n",
       "    'parameterType': 'double'},\n",
       "   {'feasibleSpace': {'max': '0.93', 'min': '0.88'},\n",
       "    'name': '--beta1',\n",
       "    'parameterType': 'double'}],\n",
       "  'trialTemplate': {'goTemplate': {'rawTemplate': 'apiVersion: \"batch/v1\"\\nkind: Job\\nmetadata:\\n  name: {{.Trial}}\\n  namespace: {{.NameSpace}}\\nspec:\\n  template:\\n    spec:\\n      containers:\\n      - name: {{.Trial}}\\n        image: docker.io/johnugeorge/cnn-blerssi:0.3\\n        command:\\n        - \"python3\"\\n        - \"/opt/blerssi-cnn-adam.py\"\\n        {{- with .HyperParameters}}\\n        {{- range .}}\\n        - \"{{.Name}}={{.Value}}\"\\n        {{- end}}\\n        {{- end}}\\n      restartPolicy: Never'}}}}"
      ]
     },
     "execution_count": 8,
     "metadata": {},
     "output_type": "execute_result"
    }
   ],
   "source": [
    "kclient.create_experiment(experiment, namespace=namespace)"
   ]
  },
  {
   "cell_type": "markdown",
   "metadata": {},
   "source": [
    "## Get Single Experiment Details"
   ]
  },
  {
   "cell_type": "code",
   "execution_count": 9,
   "metadata": {},
   "outputs": [
    {
     "data": {
      "text/plain": [
       "{'apiVersion': 'kubeflow.org/v1alpha3',\n",
       " 'kind': 'Experiment',\n",
       " 'metadata': {'creationTimestamp': '2020-03-31T06:39:14Z',\n",
       "  'finalizers': ['update-prometheus-metrics'],\n",
       "  'generation': 1,\n",
       "  'name': 'blerssi-bayesopt',\n",
       "  'namespace': 'anonymous',\n",
       "  'resourceVersion': '19224434',\n",
       "  'selfLink': '/apis/kubeflow.org/v1alpha3/namespaces/anonymous/experiments/blerssi-bayesopt',\n",
       "  'uid': '5638e930-731a-11ea-bedf-42010aa00fec'},\n",
       " 'spec': {'algorithm': {'algorithmName': 'bayesianoptimization',\n",
       "   'algorithmSettings': [{'name': 'burn_in', 'value': '5'}]},\n",
       "  'maxFailedTrialCount': 9,\n",
       "  'maxTrialCount': 12,\n",
       "  'metricsCollectorSpec': {'collector': {'kind': 'StdOut'}},\n",
       "  'objective': {'goal': 1.3,\n",
       "   'objectiveMetricName': 'l2_loss',\n",
       "   'type': 'minimize'},\n",
       "  'parallelTrialCount': 2,\n",
       "  'parameters': [{'feasibleSpace': {'max': '0.002', 'min': '0.001'},\n",
       "    'name': '--learning_rate',\n",
       "    'parameterType': 'double'},\n",
       "   {'feasibleSpace': {'max': '0.93', 'min': '0.88'},\n",
       "    'name': '--beta1',\n",
       "    'parameterType': 'double'}],\n",
       "  'trialTemplate': {'goTemplate': {'rawTemplate': 'apiVersion: \"batch/v1\"\\nkind: Job\\nmetadata:\\n  name: {{.Trial}}\\n  namespace: {{.NameSpace}}\\nspec:\\n  template:\\n    spec:\\n      containers:\\n      - name: {{.Trial}}\\n        image: docker.io/johnugeorge/cnn-blerssi:0.3\\n        command:\\n        - \"python3\"\\n        - \"/opt/blerssi-cnn-adam.py\"\\n        {{- with .HyperParameters}}\\n        {{- range .}}\\n        - \"{{.Name}}={{.Value}}\"\\n        {{- end}}\\n        {{- end}}\\n      restartPolicy: Never'}}},\n",
       " 'status': {'conditions': [{'lastTransitionTime': '2020-03-31T06:39:14Z',\n",
       "    'lastUpdateTime': '2020-03-31T06:39:14Z',\n",
       "    'message': 'Experiment is created',\n",
       "    'reason': 'ExperimentCreated',\n",
       "    'status': 'True',\n",
       "    'type': 'Created'},\n",
       "   {'lastTransitionTime': '2020-03-31T06:39:30Z',\n",
       "    'lastUpdateTime': '2020-03-31T06:39:30Z',\n",
       "    'message': 'Experiment is running',\n",
       "    'reason': 'ExperimentRunning',\n",
       "    'status': 'True',\n",
       "    'type': 'Running'}],\n",
       "  'currentOptimalTrial': {'bestTrialName': '',\n",
       "   'observation': {'metrics': None},\n",
       "   'parameterAssignments': None},\n",
       "  'runningTrialList': ['blerssi-bayesopt-jpffc899',\n",
       "   'blerssi-bayesopt-lvgm2xpn'],\n",
       "  'startTime': '2020-03-31T06:39:14Z',\n",
       "  'trials': 2,\n",
       "  'trialsRunning': 2}}"
      ]
     },
     "execution_count": 9,
     "metadata": {},
     "output_type": "execute_result"
    }
   ],
   "source": [
    "kclient.get_experiment(name=\"blerssi-bayesopt\", namespace=namespace)"
   ]
  },
  {
   "cell_type": "markdown",
   "metadata": {},
   "source": [
    "## Get all Experiments"
   ]
  },
  {
   "cell_type": "code",
   "execution_count": 10,
   "metadata": {},
   "outputs": [
    {
     "data": {
      "text/plain": [
       "{'apiVersion': 'kubeflow.org/v1alpha3',\n",
       " 'items': [{'apiVersion': 'kubeflow.org/v1alpha3',\n",
       "   'kind': 'Experiment',\n",
       "   'metadata': {'creationTimestamp': '2020-03-30T09:15:16Z',\n",
       "    'finalizers': ['update-prometheus-metrics'],\n",
       "    'generation': 1,\n",
       "    'name': 'bayesianoptimizationjob',\n",
       "    'namespace': 'anonymous',\n",
       "    'resourceVersion': '18661856',\n",
       "    'selfLink': '/apis/kubeflow.org/v1alpha3/namespaces/anonymous/experiments/bayesianoptimizationjob',\n",
       "    'uid': 'f82b3ae2-7266-11ea-bedf-42010aa00fec'},\n",
       "   'spec': {'algorithm': {'algorithmName': 'bayesianoptimization',\n",
       "     'algorithmSettings': [{'name': 'random_state', 'value': '10'}]},\n",
       "    'maxFailedTrialCount': 3,\n",
       "    'maxTrialCount': 5,\n",
       "    'metricsCollectorSpec': {'collector': {'kind': 'StdOut'}},\n",
       "    'objective': {'goal': 0.9999,\n",
       "     'objectiveMetricName': 'Validation-accuracy',\n",
       "     'type': 'maximize'},\n",
       "    'parallelTrialCount': 5,\n",
       "    'parameters': [{'feasibleSpace': {'list': ['sgd', 'adam', 'ftrl']},\n",
       "      'name': '--optimizer',\n",
       "      'parameterType': 'categorical'},\n",
       "     {'feasibleSpace': {'max': '0.03', 'min': '0.01'},\n",
       "      'name': '--lr',\n",
       "      'parameterType': 'double'},\n",
       "     {'feasibleSpace': {'max': '5', 'min': '2'},\n",
       "      'name': '--num-layers',\n",
       "      'parameterType': 'int'}],\n",
       "    'trialTemplate': {'goTemplate': {'rawTemplate': 'apiVersion: \"batch/v1\"\\nkind: Job\\nmetadata:\\n  name: {{.Trial}}\\n  namespace: {{.NameSpace}}\\nspec:\\n  template:\\n    spec:\\n      containers:\\n      - name: {{.Trial}}\\n        image: docker.io/kubeflowkatib/mxnet-mnist\\n        command:\\n        - \"python3\"\\n        - \"/opt/mxnet-mnist/mnist.py\"\\n        - \"--batch-size=64\"\\n        {{- with .HyperParameters}}\\n        {{- range .}}\\n        - \"{{.Name}}={{.Value}}\"\\n        {{- end}}\\n        {{- end}}\\n      restartPolicy: Never'}}},\n",
       "   'status': {'completionTime': '2020-03-30T09:24:22Z',\n",
       "    'conditions': [{'lastTransitionTime': '2020-03-30T09:15:16Z',\n",
       "      'lastUpdateTime': '2020-03-30T09:15:16Z',\n",
       "      'message': 'Experiment is created',\n",
       "      'reason': 'ExperimentCreated',\n",
       "      'status': 'True',\n",
       "      'type': 'Created'},\n",
       "     {'lastTransitionTime': '2020-03-30T09:24:22Z',\n",
       "      'lastUpdateTime': '2020-03-30T09:24:22Z',\n",
       "      'message': 'Experiment is running',\n",
       "      'reason': 'ExperimentRunning',\n",
       "      'status': 'False',\n",
       "      'type': 'Running'},\n",
       "     {'lastTransitionTime': '2020-03-30T09:24:22Z',\n",
       "      'lastUpdateTime': '2020-03-30T09:24:22Z',\n",
       "      'message': 'Experiment has succeeded because max trial count has reached',\n",
       "      'reason': 'ExperimentMaxTrialsReached',\n",
       "      'status': 'True',\n",
       "      'type': 'Succeeded'}],\n",
       "    'currentOptimalTrial': {'bestTrialName': 'bayesianoptimizationjob-rm8vmbl7',\n",
       "     'observation': {'metrics': [{'name': 'Validation-accuracy',\n",
       "        'value': 0.978304}]},\n",
       "     'parameterAssignments': [{'name': '--optimizer', 'value': 'sgd'},\n",
       "      {'name': '--lr', 'value': '0.021196507397563884'},\n",
       "      {'name': '--num-layers', 'value': '4'}]},\n",
       "    'startTime': '2020-03-30T09:15:16Z',\n",
       "    'succeededTrialList': ['bayesianoptimizationjob-6mkpp94q',\n",
       "     'bayesianoptimizationjob-mbpdcwk5',\n",
       "     'bayesianoptimizationjob-n7ndmrg6',\n",
       "     'bayesianoptimizationjob-rm8vmbl7',\n",
       "     'bayesianoptimizationjob-t6svz868'],\n",
       "    'trials': 5,\n",
       "    'trialsSucceeded': 5}},\n",
       "  {'apiVersion': 'kubeflow.org/v1alpha3',\n",
       "   'kind': 'Experiment',\n",
       "   'metadata': {'creationTimestamp': '2020-03-30T11:07:48Z',\n",
       "    'finalizers': ['update-prometheus-metrics'],\n",
       "    'generation': 1,\n",
       "    'name': 'bayesianoptimizationjob1',\n",
       "    'namespace': 'anonymous',\n",
       "    'resourceVersion': '18712347',\n",
       "    'selfLink': '/apis/kubeflow.org/v1alpha3/namespaces/anonymous/experiments/bayesianoptimizationjob1',\n",
       "    'uid': 'b0d1845c-7276-11ea-bedf-42010aa00fec'},\n",
       "   'spec': {'algorithm': {'algorithmName': 'bayesianoptimization',\n",
       "     'algorithmSettings': [{'name': 'random_state', 'value': '10'}]},\n",
       "    'maxFailedTrialCount': 3,\n",
       "    'maxTrialCount': 5,\n",
       "    'metricsCollectorSpec': {'collector': {'kind': 'StdOut'}},\n",
       "    'objective': {'goal': 0.9999,\n",
       "     'objectiveMetricName': 'Validation-accuracy',\n",
       "     'type': 'maximize'},\n",
       "    'parallelTrialCount': 5,\n",
       "    'parameters': [{'feasibleSpace': {'list': ['sgd', 'adam', 'ftrl']},\n",
       "      'name': '--optimizer',\n",
       "      'parameterType': 'categorical'},\n",
       "     {'feasibleSpace': {'max': '0.03', 'min': '0.01'},\n",
       "      'name': '--lr',\n",
       "      'parameterType': 'double'},\n",
       "     {'feasibleSpace': {'max': '5', 'min': '2'},\n",
       "      'name': '--num-layers',\n",
       "      'parameterType': 'int'}],\n",
       "    'trialTemplate': {'goTemplate': {'rawTemplate': 'apiVersion: \"batch/v1\"\\nkind: Job\\nmetadata:\\n  name: {{.Trial}}\\n  namespace: {{.NameSpace}}\\nspec:\\n  template:\\n    spec:\\n      containers:\\n      - name: {{.Trial}}\\n        image: docker.io/kubeflowkatib/mxnet-mnist\\n        command:\\n        - \"python3\"\\n        - \"/opt/mxnet-mnist/mnist.py\"\\n        - \"--batch-size=64\"\\n        {{- with .HyperParameters}}\\n        {{- range .}}\\n        - \"{{.Name}}={{.Value}}\"\\n        {{- end}}\\n        {{- end}}\\n      restartPolicy: Never'}}},\n",
       "   'status': {'completionTime': '2020-03-30T11:17:44Z',\n",
       "    'conditions': [{'lastTransitionTime': '2020-03-30T11:07:48Z',\n",
       "      'lastUpdateTime': '2020-03-30T11:07:48Z',\n",
       "      'message': 'Experiment is created',\n",
       "      'reason': 'ExperimentCreated',\n",
       "      'status': 'True',\n",
       "      'type': 'Created'},\n",
       "     {'lastTransitionTime': '2020-03-30T11:17:44Z',\n",
       "      'lastUpdateTime': '2020-03-30T11:17:44Z',\n",
       "      'message': 'Experiment is running',\n",
       "      'reason': 'ExperimentRunning',\n",
       "      'status': 'False',\n",
       "      'type': 'Running'},\n",
       "     {'lastTransitionTime': '2020-03-30T11:17:44Z',\n",
       "      'lastUpdateTime': '2020-03-30T11:17:44Z',\n",
       "      'message': 'Experiment has succeeded because max trial count has reached',\n",
       "      'reason': 'ExperimentMaxTrialsReached',\n",
       "      'status': 'True',\n",
       "      'type': 'Succeeded'}],\n",
       "    'currentOptimalTrial': {'bestTrialName': 'bayesianoptimizationjob1-q4rkr7zh',\n",
       "     'observation': {'metrics': [{'name': 'Validation-accuracy',\n",
       "        'value': 0.979598}]},\n",
       "     'parameterAssignments': [{'name': '--optimizer', 'value': 'sgd'},\n",
       "      {'name': '--lr', 'value': '0.021196507397563884'},\n",
       "      {'name': '--num-layers', 'value': '4'}]},\n",
       "    'startTime': '2020-03-30T11:07:48Z',\n",
       "    'succeededTrialList': ['bayesianoptimizationjob1-7mcx7h29',\n",
       "     'bayesianoptimizationjob1-dsclgwt9',\n",
       "     'bayesianoptimizationjob1-q4rkr7zh',\n",
       "     'bayesianoptimizationjob1-z67xx857',\n",
       "     'bayesianoptimizationjob1-zvsvbgbl'],\n",
       "    'trials': 5,\n",
       "    'trialsSucceeded': 5}},\n",
       "  {'apiVersion': 'kubeflow.org/v1alpha3',\n",
       "   'kind': 'Experiment',\n",
       "   'metadata': {'creationTimestamp': '2020-03-31T06:39:14Z',\n",
       "    'finalizers': ['update-prometheus-metrics'],\n",
       "    'generation': 1,\n",
       "    'name': 'blerssi-bayesopt',\n",
       "    'namespace': 'anonymous',\n",
       "    'resourceVersion': '19224434',\n",
       "    'selfLink': '/apis/kubeflow.org/v1alpha3/namespaces/anonymous/experiments/blerssi-bayesopt',\n",
       "    'uid': '5638e930-731a-11ea-bedf-42010aa00fec'},\n",
       "   'spec': {'algorithm': {'algorithmName': 'bayesianoptimization',\n",
       "     'algorithmSettings': [{'name': 'burn_in', 'value': '5'}]},\n",
       "    'maxFailedTrialCount': 9,\n",
       "    'maxTrialCount': 12,\n",
       "    'metricsCollectorSpec': {'collector': {'kind': 'StdOut'}},\n",
       "    'objective': {'goal': 1.3,\n",
       "     'objectiveMetricName': 'l2_loss',\n",
       "     'type': 'minimize'},\n",
       "    'parallelTrialCount': 2,\n",
       "    'parameters': [{'feasibleSpace': {'max': '0.002', 'min': '0.001'},\n",
       "      'name': '--learning_rate',\n",
       "      'parameterType': 'double'},\n",
       "     {'feasibleSpace': {'max': '0.93', 'min': '0.88'},\n",
       "      'name': '--beta1',\n",
       "      'parameterType': 'double'}],\n",
       "    'trialTemplate': {'goTemplate': {'rawTemplate': 'apiVersion: \"batch/v1\"\\nkind: Job\\nmetadata:\\n  name: {{.Trial}}\\n  namespace: {{.NameSpace}}\\nspec:\\n  template:\\n    spec:\\n      containers:\\n      - name: {{.Trial}}\\n        image: docker.io/johnugeorge/cnn-blerssi:0.3\\n        command:\\n        - \"python3\"\\n        - \"/opt/blerssi-cnn-adam.py\"\\n        {{- with .HyperParameters}}\\n        {{- range .}}\\n        - \"{{.Name}}={{.Value}}\"\\n        {{- end}}\\n        {{- end}}\\n      restartPolicy: Never'}}},\n",
       "   'status': {'conditions': [{'lastTransitionTime': '2020-03-31T06:39:14Z',\n",
       "      'lastUpdateTime': '2020-03-31T06:39:14Z',\n",
       "      'message': 'Experiment is created',\n",
       "      'reason': 'ExperimentCreated',\n",
       "      'status': 'True',\n",
       "      'type': 'Created'},\n",
       "     {'lastTransitionTime': '2020-03-31T06:39:30Z',\n",
       "      'lastUpdateTime': '2020-03-31T06:39:30Z',\n",
       "      'message': 'Experiment is running',\n",
       "      'reason': 'ExperimentRunning',\n",
       "      'status': 'True',\n",
       "      'type': 'Running'}],\n",
       "    'currentOptimalTrial': {'bestTrialName': '',\n",
       "     'observation': {'metrics': None},\n",
       "     'parameterAssignments': None},\n",
       "    'runningTrialList': ['blerssi-bayesopt-jpffc899',\n",
       "     'blerssi-bayesopt-lvgm2xpn'],\n",
       "    'startTime': '2020-03-31T06:39:14Z',\n",
       "    'trials': 2,\n",
       "    'trialsRunning': 2}}],\n",
       " 'kind': 'ExperimentList',\n",
       " 'metadata': {'continue': '',\n",
       "  'resourceVersion': '19224565',\n",
       "  'selfLink': '/apis/kubeflow.org/v1alpha3/namespaces/anonymous/experiments'}}"
      ]
     },
     "execution_count": 10,
     "metadata": {},
     "output_type": "execute_result"
    }
   ],
   "source": [
    "kclient.get_experiment()\n"
   ]
  },
  {
   "cell_type": "markdown",
   "metadata": {},
   "source": [
    "## Get experiment status"
   ]
  },
  {
   "cell_type": "code",
   "execution_count": 12,
   "metadata": {},
   "outputs": [
    {
     "data": {
      "text/plain": [
       "'Running'"
      ]
     },
     "execution_count": 12,
     "metadata": {},
     "output_type": "execute_result"
    }
   ],
   "source": [
    "kclient.get_experiment_status(name=\"blerssi-bayesopt\", namespace=namespace)\n"
   ]
  },
  {
   "cell_type": "markdown",
   "metadata": {},
   "source": [
    "## Check whether experiment has succeeded"
   ]
  },
  {
   "cell_type": "code",
   "execution_count": 13,
   "metadata": {},
   "outputs": [
    {
     "data": {
      "text/plain": [
       "False"
      ]
     },
     "execution_count": 13,
     "metadata": {},
     "output_type": "execute_result"
    }
   ],
   "source": [
    "kclient.is_experiment_succeeded(name=\"blerssi-bayesopt\", namespace=namespace)"
   ]
  },
  {
   "cell_type": "markdown",
   "metadata": {},
   "source": [
    "## Delete experiment"
   ]
  },
  {
   "cell_type": "code",
   "execution_count": 36,
   "metadata": {},
   "outputs": [],
   "source": [
    "# kclient.delete_experiment(name=\"bayesianoptimization\", namespace=namespace)#"
   ]
  },
  {
   "cell_type": "markdown",
   "metadata": {},
   "source": [
    "## List Trials of an experiment"
   ]
  },
  {
   "cell_type": "code",
   "execution_count": 22,
   "metadata": {},
   "outputs": [
    {
     "data": {
      "text/plain": [
       "[{'name': 'blerssi-bayesopt-42dql75j', 'status': 'Succeeded'},\n",
       " {'name': 'blerssi-bayesopt-5l7zfsp4', 'status': 'Succeeded'},\n",
       " {'name': 'blerssi-bayesopt-drgxzt7t', 'status': 'Succeeded'},\n",
       " {'name': 'blerssi-bayesopt-f57vtzjk', 'status': 'Succeeded'},\n",
       " {'name': 'blerssi-bayesopt-ffslt6g9', 'status': 'Succeeded'},\n",
       " {'name': 'blerssi-bayesopt-hj6cpcln', 'status': 'Succeeded'},\n",
       " {'name': 'blerssi-bayesopt-jpffc899', 'status': 'Succeeded'},\n",
       " {'name': 'blerssi-bayesopt-lvgm2xpn', 'status': 'Succeeded'},\n",
       " {'name': 'blerssi-bayesopt-nlcvwj5q', 'status': 'Succeeded'},\n",
       " {'name': 'blerssi-bayesopt-qcpc95qf', 'status': 'Succeeded'},\n",
       " {'name': 'blerssi-bayesopt-qqx94th7', 'status': 'Succeeded'},\n",
       " {'name': 'blerssi-bayesopt-t5b6g5rp', 'status': 'Succeeded'}]"
      ]
     },
     "execution_count": 22,
     "metadata": {},
     "output_type": "execute_result"
    }
   ],
   "source": [
    "kclient.list_trials(name=\"blerssi-bayesopt\", namespace=namespace)"
   ]
  },
  {
   "cell_type": "markdown",
   "metadata": {},
   "source": [
    "## List all experiments"
   ]
  },
  {
   "cell_type": "code",
   "execution_count": 16,
   "metadata": {},
   "outputs": [
    {
     "data": {
      "text/plain": [
       "[{'name': 'bayesianoptimizationjob', 'status': 'Succeeded'},\n",
       " {'name': 'bayesianoptimizationjob1', 'status': 'Succeeded'},\n",
       " {'name': 'blerssi-bayesopt', 'status': 'Running'}]"
      ]
     },
     "execution_count": 16,
     "metadata": {},
     "output_type": "execute_result"
    }
   ],
   "source": [
    "kclient.list_experiments(namespace=namespace)\n"
   ]
  },
  {
   "cell_type": "code",
   "execution_count": 23,
   "metadata": {},
   "outputs": [
    {
     "data": {
      "text/plain": [
       "{'status': 'Succeeded',\n",
       " 'currentOptimalTrial': {'bestTrialName': 'blerssi-bayesopt-drgxzt7t',\n",
       "  'observation': {'metrics': [{'name': 'l2_loss', 'value': 2.11414010362215}]},\n",
       "  'parameterAssignments': [{'name': '--learning_rate',\n",
       "    'value': '0.0016541997553521574'},\n",
       "   {'name': '--beta1', 'value': '0.9167887608923336'}]}}"
      ]
     },
     "execution_count": 23,
     "metadata": {},
     "output_type": "execute_result"
    }
   ],
   "source": [
    "kclient.get_optimal_hyperparmeters(name=\"blerssi-bayesopt\", namespace=namespace)"
   ]
  }
 ],
 "metadata": {
  "kernelspec": {
   "display_name": "Python 3",
   "language": "python",
   "name": "python3"
  },
  "language_info": {
   "codemirror_mode": {
    "name": "ipython",
    "version": 3
   },
   "file_extension": ".py",
   "mimetype": "text/x-python",
   "name": "python",
   "nbconvert_exporter": "python",
   "pygments_lexer": "ipython3",
   "version": "3.6.5"
  }
 },
 "nbformat": 4,
 "nbformat_minor": 2
}
