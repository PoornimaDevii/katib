{
 "cells": [
  {
   "cell_type": "code",
   "execution_count": 26,
   "metadata": {},
   "outputs": [
    {
     "name": "stdout",
     "output_type": "stream",
     "text": [
      "/root/kubeflow-katib\n"
     ]
    }
   ],
   "source": [
    "cd /root/kubeflow-katib"
   ]
  },
  {
   "cell_type": "code",
   "execution_count": 2,
   "metadata": {},
   "outputs": [],
   "source": [
    "! python setup.py install"
   ]
  },
  {
   "cell_type": "code",
   "execution_count": 3,
   "metadata": {},
   "outputs": [],
   "source": [
    "from kubernetes.client import V1PodTemplateSpec\n",
    "from kubernetes.client import V1ObjectMeta\n",
    "from kubernetes.client import V1PodSpec\n",
    "from kubernetes.client import V1Container"
   ]
  },
  {
   "cell_type": "code",
   "execution_count": 4,
   "metadata": {
    "scrolled": true
   },
   "outputs": [],
   "source": [
    "import katib as kc\n",
    "from katib import constants\n",
    "from katib import utils\n",
    "from katib import V1alpha3AlgorithmSetting\n",
    "from katib import V1alpha3AlgorithmSetting\n",
    "from katib import V1alpha3AlgorithmSpec\n",
    "from katib import V1alpha3CollectorSpec\n",
    "from katib import V1alpha3EarlyStoppingSetting\n",
    "from katib import V1alpha3EarlyStoppingSpec\n",
    "from katib import V1alpha3Experiment\n",
    "from katib import V1alpha3ExperimentCondition\n",
    "from katib import V1alpha3ExperimentList\n",
    "from katib import V1alpha3ExperimentSpec\n",
    "from katib import V1alpha3ExperimentStatus\n",
    "from katib import V1alpha3FeasibleSpace\n",
    "from katib import V1alpha3FileSystemPath\n",
    "from katib import V1alpha3FilterSpec\n",
    "from katib import V1alpha3GoTemplate\n",
    "from katib import V1alpha3GraphConfig\n",
    "from katib import V1alpha3Metric\n",
    "from katib import V1alpha3MetricsCollectorSpec\n",
    "from katib import V1alpha3NasConfig\n",
    "from katib import V1alpha3ObjectiveSpec\n",
    "from katib import V1alpha3Observation\n",
    "from katib import V1alpha3Operation\n",
    "from katib import V1alpha3OptimalTrial\n",
    "from katib import V1alpha3ParameterAssignment\n",
    "from katib import V1alpha3ParameterSpec\n",
    "from katib import V1alpha3SourceSpec\n",
    "from katib import V1alpha3Suggestion\n",
    "from katib import V1alpha3SuggestionCondition\n",
    "from katib import V1alpha3SuggestionList\n",
    "from katib import V1alpha3SuggestionSpec\n",
    "from katib import V1alpha3SuggestionStatus\n",
    "from katib import V1alpha3TemplateSpec\n",
    "from katib import V1alpha3Trial\n",
    "from katib import V1alpha3TrialAssignment\n",
    "from katib import V1alpha3TrialCondition\n",
    "from katib import V1alpha3TrialList\n",
    "from katib import V1alpha3TrialSpec\n",
    "from katib import V1alpha3TrialStatus\n",
    "from katib import V1alpha3TrialTemplate"
   ]
  },
  {
   "cell_type": "code",
   "execution_count": 15,
   "metadata": {},
   "outputs": [],
   "source": [
    "algorithmsettings = V1alpha3AlgorithmSetting(\n",
    "    name= \"random_state\",\n",
    "    value = \"10\"\n",
    "    )\n",
    "algorithm = V1alpha3AlgorithmSpec(\n",
    "    algorithm_name = \"bayesianoptimization\",\n",
    "    algorithm_settings = [algorithmsettings]\n",
    "  )\n",
    "\n",
    "# Metric Collector\n",
    "collector = V1alpha3CollectorSpec(kind = \"TensorFlowEvent\")\n",
    "FileSystemPath = V1alpha3FileSystemPath(kind = \"/train\" , path = \"Directory\")\n",
    "metrics_collector_spec = V1alpha3MetricsCollectorSpec(\n",
    "    collector = collector,\n",
    "    source = FileSystemPath)\n",
    "\n",
    "# Objective\n",
    "objective = V1alpha3ObjectiveSpec(\n",
    "    goal = 0.9999,\n",
    "    objective_metric_name = \"Validation-accuracy\",\n",
    "    type = \"maximize\")\n",
    "\n",
    "# Parameters\n",
    "\n",
    "feasible_space_optimizer = V1alpha3FeasibleSpace(list = [\"sgd\", \"adam\", \"ftrl\"])\n",
    "feasible_space_lr = V1alpha3FeasibleSpace(min = \"0.01\", max = \"0.03\")\n",
    "feasible_space_layers = V1alpha3FeasibleSpace(min = \"2\", max = \"5\")\n",
    "\n",
    "parameters = [V1alpha3ParameterSpec(\n",
    "    feasible_space = feasible_space_optimizer, \n",
    "    name = \"--optimizer\",\n",
    "    parameter_type = \"categorical\"\n",
    "    ),\n",
    "    V1alpha3ParameterSpec(\n",
    "    feasible_space = feasible_space_lr, \n",
    "    name = \"--lr\",\n",
    "    parameter_type =\"double\"\n",
    "    ),\n",
    "    V1alpha3ParameterSpec(\n",
    "    feasible_space = feasible_space_layers, \n",
    "    name = \"--num-layers\",\n",
    "    parameter_type = \"int\"\n",
    "    )]\n",
    "\n",
    "# Trialtemplate\n",
    "go_template = V1alpha3GoTemplate(\n",
    "    raw_template =   \"apiVersion: \\\"batch/v1\\\"\\nkind: Job\\nmetadata:\\n  name: {{.Trial}}\\n  namespace: {{.NameSpace}}\\nspec:\\n  template:\\n    spec:\\n      containers:\\n      - name: {{.Trial}}\\n        image: docker.io/kubeflowkatib/mxnet-mnist\\n        command:\\n        - \\\"python3\\\"\\n        - \\\"/opt/mxnet-mnist/mnist.py\\\"\\n        - \\\"--batch-size=64\\\"\\n        {{- with .HyperParameters}}\\n        {{- range .}}\\n        - \\\"{{.Name}}={{.Value}}\\\"\\n        {{- end}}\\n        {{- end}}\\n      restartPolicy: Never\"\n",
    "    )\n",
    "\n",
    "\n",
    "trial_template= V1alpha3TrialTemplate(go_template=go_template)\n",
    "\n",
    "\n",
    "# Experiment\n",
    "experiment = V1alpha3Experiment(\n",
    "    api_version=\"kubeflow.org/v1alpha3\",\n",
    "    kind=\"Experiment\",\n",
    "    metadata=V1ObjectMeta(name=\"bayesianoptimization-example\",namespace=\"kube-prem\"),\n",
    "\n",
    "    spec=V1alpha3ExperimentSpec(\n",
    "         algorithm = algorithm,\n",
    "         max_failed_trial_count=3,\n",
    "         max_trial_count=5,\n",
    "         objective = objective,\n",
    "         parallel_trial_count=5,\n",
    "         parameters = parameters ,\n",
    "         trial_template = trial_template\n",
    "    )\n",
    ")"
   ]
  },
  {
   "cell_type": "code",
   "execution_count": 22,
   "metadata": {},
   "outputs": [],
   "source": [
    "namespace = kc.utils.get_default_target_namespace()\n",
    "#experiment"
   ]
  },
  {
   "cell_type": "code",
   "execution_count": 17,
   "metadata": {},
   "outputs": [],
   "source": [
    "kclient = kc.KatibClient()"
   ]
  },
  {
   "cell_type": "markdown",
   "metadata": {},
   "source": [
    "## Create Experiment"
   ]
  },
  {
   "cell_type": "code",
   "execution_count": 29,
   "metadata": {},
   "outputs": [
    {
     "data": {
      "text/html": [
       "Katib Experiment link <a href=\"/_/katib/#/katib/hp_monitor/kube-prem/bayesianoptimization-example\" target=\"_blank\">here</a>"
      ],
      "text/plain": [
       "<IPython.core.display.HTML object>"
      ]
     },
     "metadata": {},
     "output_type": "display_data"
    },
    {
     "data": {
      "text/plain": [
       "{'apiVersion': 'kubeflow.org/v1alpha3',\n",
       " 'kind': 'Experiment',\n",
       " 'metadata': {'creationTimestamp': '2020-02-28T12:36:55Z',\n",
       "  'generation': 1,\n",
       "  'name': 'bayesianoptimization-example',\n",
       "  'namespace': 'kube-prem',\n",
       "  'resourceVersion': '3241401',\n",
       "  'selfLink': '/apis/kubeflow.org/v1alpha3/namespaces/kube-prem/experiments/bayesianoptimization-example',\n",
       "  'uid': '00d02b37-5a27-11ea-8d71-42010aa00012'},\n",
       " 'spec': {'algorithm': {'algorithmName': 'bayesianoptimization',\n",
       "   'algorithmSettings': [{'name': 'random_state', 'value': '10'}]},\n",
       "  'maxFailedTrialCount': 3,\n",
       "  'maxTrialCount': 5,\n",
       "  'metricsCollectorSpec': {'collector': {'kind': 'StdOut'}},\n",
       "  'objective': {'goal': 0.9999,\n",
       "   'objectiveMetricName': 'Validation-accuracy',\n",
       "   'type': 'maximize'},\n",
       "  'parallelTrialCount': 5,\n",
       "  'parameters': [{'feasibleSpace': {'list': ['sgd', 'adam', 'ftrl']},\n",
       "    'name': '--optimizer',\n",
       "    'parameterType': 'categorical'},\n",
       "   {'feasibleSpace': {'max': '0.03', 'min': '0.01'},\n",
       "    'name': '--lr',\n",
       "    'parameterType': 'double'},\n",
       "   {'feasibleSpace': {'max': '5', 'min': '2'},\n",
       "    'name': '--num-layers',\n",
       "    'parameterType': 'int'}],\n",
       "  'trialTemplate': {'goTemplate': {'rawTemplate': 'apiVersion: \"batch/v1\"\\nkind: Job\\nmetadata:\\n  name: {{.Trial}}\\n  namespace: {{.NameSpace}}\\nspec:\\n  template:\\n    spec:\\n      containers:\\n      - name: {{.Trial}}\\n        image: docker.io/kubeflowkatib/mxnet-mnist\\n        command:\\n        - \"python3\"\\n        - \"/opt/mxnet-mnist/mnist.py\"\\n        - \"--batch-size=64\"\\n        {{- with .HyperParameters}}\\n        {{- range .}}\\n        - \"{{.Name}}={{.Value}}\"\\n        {{- end}}\\n        {{- end}}\\n      restartPolicy: Never'}}}}"
      ]
     },
     "execution_count": 29,
     "metadata": {},
     "output_type": "execute_result"
    }
   ],
   "source": [
    "kclient.create_experiment(experiment, namespace=namespace)"
   ]
  },
  {
   "cell_type": "markdown",
   "metadata": {},
   "source": [
    "## Get Single Experiment"
   ]
  },
  {
   "cell_type": "code",
   "execution_count": 20,
   "metadata": {},
   "outputs": [
    {
     "data": {
      "text/plain": [
       "{'apiVersion': 'kubeflow.org/v1alpha3',\n",
       " 'kind': 'Experiment',\n",
       " 'metadata': {'creationTimestamp': '2020-02-28T12:20:13Z',\n",
       "  'finalizers': ['update-prometheus-metrics'],\n",
       "  'generation': 1,\n",
       "  'name': 'bayesianoptimization-example',\n",
       "  'namespace': 'kube-prem',\n",
       "  'resourceVersion': '3232544',\n",
       "  'selfLink': '/apis/kubeflow.org/v1alpha3/namespaces/kube-prem/experiments/bayesianoptimization-example',\n",
       "  'uid': 'ab8ccc01-5a24-11ea-8d71-42010aa00012'},\n",
       " 'spec': {'algorithm': {'algorithmName': 'bayesianoptimization',\n",
       "   'algorithmSettings': [{'name': 'random_state', 'value': '10'}]},\n",
       "  'maxFailedTrialCount': 3,\n",
       "  'maxTrialCount': 5,\n",
       "  'metricsCollectorSpec': {'collector': {'kind': 'StdOut'}},\n",
       "  'objective': {'goal': 0.9999,\n",
       "   'objectiveMetricName': 'Validation-accuracy',\n",
       "   'type': 'maximize'},\n",
       "  'parallelTrialCount': 5,\n",
       "  'parameters': [{'feasibleSpace': {'list': ['sgd', 'adam', 'ftrl']},\n",
       "    'name': '--optimizer',\n",
       "    'parameterType': 'categorical'},\n",
       "   {'feasibleSpace': {'max': '0.03', 'min': '0.01'},\n",
       "    'name': '--lr',\n",
       "    'parameterType': 'double'},\n",
       "   {'feasibleSpace': {'max': '5', 'min': '2'},\n",
       "    'name': '--num-layers',\n",
       "    'parameterType': 'int'}],\n",
       "  'trialTemplate': {'goTemplate': {'rawTemplate': 'apiVersion: \"batch/v1\"\\nkind: Job\\nmetadata:\\n  name: {{.Trial}}\\n  namespace: {{.NameSpace}}\\nspec:\\n  template:\\n    spec:\\n      containers:\\n      - name: {{.Trial}}\\n        image: docker.io/kubeflowkatib/mxnet-mnist\\n        command:\\n        - \"python3\"\\n        - \"/opt/mxnet-mnist/mnist.py\"\\n        - \"--batch-size=64\"\\n        {{- with .HyperParameters}}\\n        {{- range .}}\\n        - \"{{.Name}}={{.Value}}\"\\n        {{- end}}\\n        {{- end}}\\n      restartPolicy: Never'}}},\n",
       " 'status': {'conditions': [{'lastTransitionTime': '2020-02-28T12:20:13Z',\n",
       "    'lastUpdateTime': '2020-02-28T12:20:13Z',\n",
       "    'message': 'Experiment is created',\n",
       "    'reason': 'ExperimentCreated',\n",
       "    'status': 'True',\n",
       "    'type': 'Created'},\n",
       "   {'lastTransitionTime': '2020-02-28T12:20:49Z',\n",
       "    'lastUpdateTime': '2020-02-28T12:20:49Z',\n",
       "    'message': 'Experiment is running',\n",
       "    'reason': 'ExperimentRunning',\n",
       "    'status': 'True',\n",
       "    'type': 'Running'}],\n",
       "  'currentOptimalTrial': {'bestTrialName': '',\n",
       "   'observation': {'metrics': None},\n",
       "   'parameterAssignments': None},\n",
       "  'pendingTrialList': ['bayesianoptimization-example-95j959jp',\n",
       "   'bayesianoptimization-example-mxrqtbw2',\n",
       "   'bayesianoptimization-example-ng82dwpj'],\n",
       "  'runningTrialList': ['bayesianoptimization-example-brrt587r',\n",
       "   'bayesianoptimization-example-hld4rc92'],\n",
       "  'startTime': '2020-02-28T12:20:13Z',\n",
       "  'trials': 5,\n",
       "  'trialsPending': 3,\n",
       "  'trialsRunning': 2}}"
      ]
     },
     "execution_count": 20,
     "metadata": {},
     "output_type": "execute_result"
    }
   ],
   "source": [
    "kclient.get_experiment(name=\"bayesianoptimization-example\", namespace=None)"
   ]
  },
  {
   "cell_type": "markdown",
   "metadata": {},
   "source": [
    "## Get all Experiment"
   ]
  },
  {
   "cell_type": "code",
   "execution_count": 21,
   "metadata": {},
   "outputs": [
    {
     "data": {
      "text/plain": [
       "{'apiVersion': 'kubeflow.org/v1alpha3',\n",
       " 'items': [{'apiVersion': 'kubeflow.org/v1alpha3',\n",
       "   'kind': 'Experiment',\n",
       "   'metadata': {'creationTimestamp': '2020-02-28T12:20:13Z',\n",
       "    'finalizers': ['update-prometheus-metrics'],\n",
       "    'generation': 1,\n",
       "    'name': 'bayesianoptimization-example',\n",
       "    'namespace': 'kube-prem',\n",
       "    'resourceVersion': '3232573',\n",
       "    'selfLink': '/apis/kubeflow.org/v1alpha3/namespaces/kube-prem/experiments/bayesianoptimization-example',\n",
       "    'uid': 'ab8ccc01-5a24-11ea-8d71-42010aa00012'},\n",
       "   'spec': {'algorithm': {'algorithmName': 'bayesianoptimization',\n",
       "     'algorithmSettings': [{'name': 'random_state', 'value': '10'}]},\n",
       "    'maxFailedTrialCount': 3,\n",
       "    'maxTrialCount': 5,\n",
       "    'metricsCollectorSpec': {'collector': {'kind': 'StdOut'}},\n",
       "    'objective': {'goal': 0.9999,\n",
       "     'objectiveMetricName': 'Validation-accuracy',\n",
       "     'type': 'maximize'},\n",
       "    'parallelTrialCount': 5,\n",
       "    'parameters': [{'feasibleSpace': {'list': ['sgd', 'adam', 'ftrl']},\n",
       "      'name': '--optimizer',\n",
       "      'parameterType': 'categorical'},\n",
       "     {'feasibleSpace': {'max': '0.03', 'min': '0.01'},\n",
       "      'name': '--lr',\n",
       "      'parameterType': 'double'},\n",
       "     {'feasibleSpace': {'max': '5', 'min': '2'},\n",
       "      'name': '--num-layers',\n",
       "      'parameterType': 'int'}],\n",
       "    'trialTemplate': {'goTemplate': {'rawTemplate': 'apiVersion: \"batch/v1\"\\nkind: Job\\nmetadata:\\n  name: {{.Trial}}\\n  namespace: {{.NameSpace}}\\nspec:\\n  template:\\n    spec:\\n      containers:\\n      - name: {{.Trial}}\\n        image: docker.io/kubeflowkatib/mxnet-mnist\\n        command:\\n        - \"python3\"\\n        - \"/opt/mxnet-mnist/mnist.py\"\\n        - \"--batch-size=64\"\\n        {{- with .HyperParameters}}\\n        {{- range .}}\\n        - \"{{.Name}}={{.Value}}\"\\n        {{- end}}\\n        {{- end}}\\n      restartPolicy: Never'}}},\n",
       "   'status': {'conditions': [{'lastTransitionTime': '2020-02-28T12:20:13Z',\n",
       "      'lastUpdateTime': '2020-02-28T12:20:13Z',\n",
       "      'message': 'Experiment is created',\n",
       "      'reason': 'ExperimentCreated',\n",
       "      'status': 'True',\n",
       "      'type': 'Created'},\n",
       "     {'lastTransitionTime': '2020-02-28T12:20:49Z',\n",
       "      'lastUpdateTime': '2020-02-28T12:20:49Z',\n",
       "      'message': 'Experiment is running',\n",
       "      'reason': 'ExperimentRunning',\n",
       "      'status': 'True',\n",
       "      'type': 'Running'}],\n",
       "    'currentOptimalTrial': {'bestTrialName': '',\n",
       "     'observation': {'metrics': None},\n",
       "     'parameterAssignments': None},\n",
       "    'runningTrialList': ['bayesianoptimization-example-95j959jp',\n",
       "     'bayesianoptimization-example-brrt587r',\n",
       "     'bayesianoptimization-example-hld4rc92',\n",
       "     'bayesianoptimization-example-mxrqtbw2',\n",
       "     'bayesianoptimization-example-ng82dwpj'],\n",
       "    'startTime': '2020-02-28T12:20:13Z',\n",
       "    'trials': 5,\n",
       "    'trialsRunning': 5}}],\n",
       " 'kind': 'ExperimentList',\n",
       " 'metadata': {'continue': '',\n",
       "  'resourceVersion': '3232702',\n",
       "  'selfLink': '/apis/kubeflow.org/v1alpha3/namespaces/kube-prem/experiments'}}"
      ]
     },
     "execution_count": 21,
     "metadata": {},
     "output_type": "execute_result"
    }
   ],
   "source": [
    "kclient.get_experiment()\n"
   ]
  },
  {
   "cell_type": "markdown",
   "metadata": {},
   "source": [
    "## get experiment status"
   ]
  },
  {
   "cell_type": "code",
   "execution_count": 16,
   "metadata": {},
   "outputs": [
    {
     "data": {
      "text/plain": [
       "'Running'"
      ]
     },
     "execution_count": 16,
     "metadata": {},
     "output_type": "execute_result"
    }
   ],
   "source": [
    "kclient.get_experiment_status(name=\"bayesianoptimization-example\", namespace=namespace)\n"
   ]
  },
  {
   "cell_type": "markdown",
   "metadata": {},
   "source": [
    "## Is experiment succeeded"
   ]
  },
  {
   "cell_type": "code",
   "execution_count": 18,
   "metadata": {},
   "outputs": [
    {
     "data": {
      "text/plain": [
       "False"
      ]
     },
     "execution_count": 18,
     "metadata": {},
     "output_type": "execute_result"
    }
   ],
   "source": [
    "kclient.is_experiment_succeeded(name=\"bayesianoptimization-example\", namespace=namespace)"
   ]
  },
  {
   "cell_type": "markdown",
   "metadata": {},
   "source": [
    "## delete experiment"
   ]
  },
  {
   "cell_type": "code",
   "execution_count": 42,
   "metadata": {},
   "outputs": [
    {
     "data": {
      "text/plain": [
       "{'apiVersion': 'kubeflow.org/v1alpha3',\n",
       " 'kind': 'Experiment',\n",
       " 'metadata': {'creationTimestamp': '2020-03-04T10:30:57Z',\n",
       "  'deletionGracePeriodSeconds': 0,\n",
       "  'deletionTimestamp': '2020-03-04T10:31:24Z',\n",
       "  'finalizers': ['update-prometheus-metrics'],\n",
       "  'generation': 2,\n",
       "  'name': 'bayesianoptimization2',\n",
       "  'namespace': 'kube-prem',\n",
       "  'resourceVersion': '7026286',\n",
       "  'selfLink': '/apis/kubeflow.org/v1alpha3/namespaces/kube-prem/experiments/bayesianoptimization2',\n",
       "  'uid': '3be61c61-5e03-11ea-8d71-42010aa00012'},\n",
       " 'spec': {'algorithm': {'algorithmName': 'bayesianoptimization',\n",
       "   'algorithmSettings': [{'name': 'random_state', 'value': '10'}]},\n",
       "  'maxFailedTrialCount': 3,\n",
       "  'maxTrialCount': 20,\n",
       "  'metricsCollectorSpec': {'collector': {'kind': 'StdOut'}},\n",
       "  'objective': {'goal': 0.9999,\n",
       "   'objectiveMetricName': 'Validation-accuracy',\n",
       "   'type': 'maximize'},\n",
       "  'parallelTrialCount': 7,\n",
       "  'parameters': [{'feasibleSpace': {'list': ['sgd', 'adam', 'ftrl']},\n",
       "    'name': '--optimizer',\n",
       "    'parameterType': 'categorical'},\n",
       "   {'feasibleSpace': {'max': '0.03', 'min': '0.01'},\n",
       "    'name': '--lr',\n",
       "    'parameterType': 'double'},\n",
       "   {'feasibleSpace': {'max': '5', 'min': '2'},\n",
       "    'name': '--num-layers',\n",
       "    'parameterType': 'int'}],\n",
       "  'trialTemplate': {'goTemplate': {'rawTemplate': 'apiVersion: \"batch/v1\"\\nkind: Job\\nmetadata:\\n  name: {{.Trial}}\\n  namespace: {{.NameSpace}}\\nspec:\\n  template:\\n    spec:\\n      containers:\\n      - name: {{.Trial}}\\n        image: docker.io/kubeflowkatib/mxnet-mnist\\n        command:\\n        - \"python3\"\\n        - \"/opt/mxnet-mnist/mnist.py\"\\n        - \"--batch-size=64\"\\n        {{- with .HyperParameters}}\\n        {{- range .}}\\n        - \"{{.Name}}={{.Value}}\"\\n        {{- end}}\\n        {{- end}}\\n      restartPolicy: Never'}}},\n",
       " 'status': {'conditions': [{'lastTransitionTime': '2020-03-04T10:30:57Z',\n",
       "    'lastUpdateTime': '2020-03-04T10:30:57Z',\n",
       "    'message': 'Experiment is created',\n",
       "    'reason': 'ExperimentCreated',\n",
       "    'status': 'True',\n",
       "    'type': 'Created'},\n",
       "   {'lastTransitionTime': '2020-03-04T10:31:20Z',\n",
       "    'lastUpdateTime': '2020-03-04T10:31:20Z',\n",
       "    'message': 'Experiment is running',\n",
       "    'reason': 'ExperimentRunning',\n",
       "    'status': 'True',\n",
       "    'type': 'Running'}],\n",
       "  'currentOptimalTrial': {'bestTrialName': '',\n",
       "   'observation': {'metrics': None},\n",
       "   'parameterAssignments': None},\n",
       "  'runningTrialList': ['bayesianoptimization2-5srfdgr7',\n",
       "   'bayesianoptimization2-78d8bg79',\n",
       "   'bayesianoptimization2-c4vhg5k2',\n",
       "   'bayesianoptimization2-c99n56gg',\n",
       "   'bayesianoptimization2-nm6wqglg',\n",
       "   'bayesianoptimization2-qgcrzpfm',\n",
       "   'bayesianoptimization2-td9z6c6x'],\n",
       "  'startTime': '2020-03-04T10:30:57Z',\n",
       "  'trials': 7,\n",
       "  'trialsRunning': 7}}"
      ]
     },
     "execution_count": 42,
     "metadata": {},
     "output_type": "execute_result"
    }
   ],
   "source": [
    "kclient.delete_experiment(name=\"bayesianoptimization2\", namespace=namespace)"
   ]
  },
  {
   "cell_type": "markdown",
   "metadata": {},
   "source": [
    "## List Trials of an experiment"
   ]
  },
  {
   "cell_type": "code",
   "execution_count": 20,
   "metadata": {},
   "outputs": [
    {
     "data": {
      "text/plain": [
       "[{'name': 'bayesianoptimization-example-q47w5qbw', 'status': 'Running'},\n",
       " {'name': 'bayesianoptimization-example-sxlzslkk', 'status': 'Running'},\n",
       " {'name': 'bayesianoptimization-example-w9m896g7', 'status': 'Running'},\n",
       " {'name': 'bayesianoptimization-example-xlzwp8p2', 'status': 'Running'},\n",
       " {'name': 'bayesianoptimization-example-z2nrxq5c', 'status': 'Running'}]"
      ]
     },
     "execution_count": 20,
     "metadata": {},
     "output_type": "execute_result"
    }
   ],
   "source": [
    "kclient.list_trials(name=\"bayesianoptimization-example\", namespace=namespace)\n"
   ]
  },
  {
   "cell_type": "markdown",
   "metadata": {},
   "source": [
    "## List all experiments"
   ]
  },
  {
   "cell_type": "code",
   "execution_count": 21,
   "metadata": {},
   "outputs": [
    {
     "data": {
      "text/plain": [
       "[{'name': 'bayesianoptimization-example', 'status': 'Running'},\n",
       " {'name': 'tfjob-example', 'status': 'Running'}]"
      ]
     },
     "execution_count": 21,
     "metadata": {},
     "output_type": "execute_result"
    }
   ],
   "source": [
    "kclient.list_experiments(namespace=namespace)\n"
   ]
  }
 ],
 "metadata": {
  "kernelspec": {
   "display_name": "Python 3",
   "language": "python",
   "name": "python3"
  },
  "language_info": {
   "codemirror_mode": {
    "name": "ipython",
    "version": 3
   },
   "file_extension": ".py",
   "mimetype": "text/x-python",
   "name": "python",
   "nbconvert_exporter": "python",
   "pygments_lexer": "ipython3",
   "version": "3.6.5"
  }
 },
 "nbformat": 4,
 "nbformat_minor": 2
}
