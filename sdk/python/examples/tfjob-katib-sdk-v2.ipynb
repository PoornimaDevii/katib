{
 "cells": [
  {
   "cell_type": "markdown",
   "metadata": {},
   "source": [
    "## Change Directory to Main Katib folder"
   ]
  },
  {
   "cell_type": "code",
   "execution_count": 1,
   "metadata": {},
   "outputs": [
    {
     "name": "stdout",
     "output_type": "stream",
     "text": [
      "/root/katib/sdk/python\n"
     ]
    }
   ],
   "source": [
    "cd /root/katib/sdk/python/"
   ]
  },
  {
   "cell_type": "markdown",
   "metadata": {},
   "source": [
    "## Install Katib SDK"
   ]
  },
  {
   "cell_type": "code",
   "execution_count": 2,
   "metadata": {},
   "outputs": [],
   "source": [
    "! python setup.py install"
   ]
  },
  {
   "cell_type": "markdown",
   "metadata": {},
   "source": [
    "## Import Required Libraries"
   ]
  },
  {
   "cell_type": "code",
   "execution_count": 3,
   "metadata": {},
   "outputs": [],
   "source": [
    "from kubernetes.client import V1PodTemplateSpec\n",
    "from kubernetes.client import V1ObjectMeta\n",
    "from kubernetes.client import V1PodSpec\n",
    "from kubernetes.client import V1Container"
   ]
  },
  {
   "cell_type": "code",
   "execution_count": 4,
   "metadata": {
    "scrolled": true
   },
   "outputs": [],
   "source": [
    "import kubeflow.katib as kc\n",
    "from kubeflow.katib import constants\n",
    "from kubeflow.katib import utils\n",
    "from kubeflow.katib import V1alpha3AlgorithmSetting\n",
    "from kubeflow.katib import V1alpha3AlgorithmSetting\n",
    "from kubeflow.katib import V1alpha3AlgorithmSpec\n",
    "from kubeflow.katib import V1alpha3CollectorSpec\n",
    "from kubeflow.katib import V1alpha3EarlyStoppingSetting\n",
    "from kubeflow.katib import V1alpha3EarlyStoppingSpec\n",
    "from kubeflow.katib import V1alpha3Experiment\n",
    "from kubeflow.katib import V1alpha3ExperimentCondition\n",
    "from kubeflow.katib import V1alpha3ExperimentList\n",
    "from kubeflow.katib import V1alpha3ExperimentSpec\n",
    "from kubeflow.katib import V1alpha3ExperimentStatus\n",
    "from kubeflow.katib import V1alpha3FeasibleSpace\n",
    "from kubeflow.katib import V1alpha3FileSystemPath\n",
    "from kubeflow.katib import V1alpha3FilterSpec\n",
    "from kubeflow.katib import V1alpha3GoTemplate\n",
    "from kubeflow.katib import V1alpha3GraphConfig\n",
    "from kubeflow.katib import V1alpha3Metric\n",
    "from kubeflow.katib import V1alpha3MetricsCollectorSpec\n",
    "from kubeflow.katib import V1alpha3NasConfig\n",
    "from kubeflow.katib import V1alpha3ObjectiveSpec\n",
    "from kubeflow.katib import V1alpha3Observation\n",
    "from kubeflow.katib import V1alpha3Operation\n",
    "from kubeflow.katib import V1alpha3OptimalTrial\n",
    "from kubeflow.katib import V1alpha3ParameterAssignment\n",
    "from kubeflow.katib import V1alpha3ParameterSpec\n",
    "from kubeflow.katib import V1alpha3SourceSpec\n",
    "from kubeflow.katib import V1alpha3Suggestion\n",
    "from kubeflow.katib import V1alpha3SuggestionCondition\n",
    "from kubeflow.katib import V1alpha3SuggestionList\n",
    "from kubeflow.katib import V1alpha3SuggestionSpec\n",
    "from kubeflow.katib import V1alpha3SuggestionStatus\n",
    "from kubeflow.katib import V1alpha3TemplateSpec\n",
    "from kubeflow.katib import V1alpha3Trial\n",
    "from kubeflow.katib import V1alpha3TrialAssignment\n",
    "from kubeflow.katib import V1alpha3TrialCondition\n",
    "from kubeflow.katib import V1alpha3TrialList\n",
    "from kubeflow.katib import V1alpha3TrialSpec\n",
    "from kubeflow.katib import V1alpha3TrialStatus\n",
    "from kubeflow.katib import V1alpha3TrialTemplate"
   ]
  },
  {
   "cell_type": "code",
   "execution_count": 5,
   "metadata": {},
   "outputs": [],
   "source": [
    "from kubeflow.tfjob import constants\n",
    "from kubeflow.tfjob import utils\n",
    "from kubeflow.tfjob import V1ReplicaSpec\n",
    "from kubeflow.tfjob import V1TFJob\n",
    "from kubeflow.tfjob import V1TFJobSpec\n",
    "from kubeflow.tfjob import TFJobClient"
   ]
  },
  {
   "cell_type": "markdown",
   "metadata": {},
   "source": [
    "## Define Experiment related Specs"
   ]
  },
  {
   "cell_type": "code",
   "execution_count": 11,
   "metadata": {},
   "outputs": [],
   "source": [
    "algorithmsettings = V1alpha3AlgorithmSetting(\n",
    "    name= None,\n",
    "    value = None\n",
    "    )\n",
    "algorithm = V1alpha3AlgorithmSpec(\n",
    "    algorithm_name = \"random\",\n",
    "    algorithm_settings = [algorithmsettings]\n",
    "  )\n",
    "\n",
    "# Metric Collector\n",
    "collector = V1alpha3CollectorSpec(kind = \"TensorFlowEvent\")\n",
    "FileSystemPath = V1alpha3FileSystemPath(kind = \"/train\" , path = \"Directory\")\n",
    "metrics_collector_spec = V1alpha3MetricsCollectorSpec(\n",
    "    collector = collector,\n",
    "    source = FileSystemPath)\n",
    "\n",
    "# Objective\n",
    "objective = V1alpha3ObjectiveSpec(\n",
    "    goal = 0.9999,\n",
    "    objective_metric_name = \"accuracy_1\",\n",
    "    type = \"maximize\")\n",
    "\n",
    "# Parameters\n",
    "feasible_space = V1alpha3FeasibleSpace(min = \"100\", max = \"200\")\n",
    "parameters = [V1alpha3ParameterSpec(\n",
    "    feasible_space = feasible_space, \n",
    "    name = \"--batch-size\",\n",
    "    parameter_type = \"int\"\n",
    "    )]\n",
    "\n",
    "#Defining the namespace where tfjob needs to be created\n",
    "namespace = utils.get_default_target_namespace()\n",
    "\n",
    "\n",
    "#Defining a Container\n",
    "container = V1Container(\n",
    "    name=\"tensorflow\",\n",
    "    image=\"gcr.io/kubeflow-ci/tf-mnist-with-summaries:1.0\",\n",
    "    image_pull_policy=\"Always\",\n",
    "    command=[\"python\", \"/var/tf_mnist/mnist_with_summaries.py\", \"--log_dir=/train/metrics\",\"{{- with .HyperParameters}}\",\"{{- range .}}\",\"{{.Name}}={{.Value}}\", \"{{- end}}\",\"{{- end}}\" ]\n",
    "    \n",
    "    \n",
    ")\n",
    "\n",
    "#Defining Worker Spec\n",
    "worker = V1ReplicaSpec(\n",
    "   replicas=1,\n",
    "   restart_policy=\"OnFailure\",\n",
    "   template=V1PodTemplateSpec(\n",
    "        spec=V1PodSpec(\n",
    "            containers=[container]\n",
    "        )\n",
    "    )\n",
    ")\n",
    "\n",
    "\n",
    "#Defining TFJob\n",
    "tfjob = V1TFJob(\n",
    "    api_version=\"kubeflow.org/v1\",\n",
    "    kind=\"TFJob\",\n",
    "    metadata=V1ObjectMeta(name=\"trialsample\",namespace=namespace),\n",
    "    spec=V1TFJobSpec(\n",
    "        clean_pod_policy=\"None\",\n",
    "        tf_replica_specs={\"Worker\": worker}\n",
    "    )\n",
    ")\n",
    "\n",
    "#Creating TFJob\n",
    "tfjob_client = TFJobClient()\n",
    "tfjob_client.create(tfjob, namespace=namespace)\n",
    "\n",
    "\n",
    "# Experiment\n",
    "experiment = V1alpha3Experiment(\n",
    "    api_version=\"kubeflow.org/v1alpha3\",\n",
    "    kind=\"Experiment\",\n",
    "    metadata=V1ObjectMeta(name=\"tfjob-experiment\",namespace=\"anonymous\"),\n",
    "\n",
    "    spec=V1alpha3ExperimentSpec(\n",
    "         algorithm = algorithm,\n",
    "         max_failed_trial_count=3,\n",
    "         max_trial_count=12,\n",
    "         metrics_collector_spec= metrics_collector_spec ,\n",
    "         objective = objective,\n",
    "         parallel_trial_count=4,\n",
    "         parameters = parameters\n",
    "    )\n",
    ")"
   ]
  },
  {
   "cell_type": "code",
   "execution_count": 12,
   "metadata": {},
   "outputs": [],
   "source": [
    "namespace = kc.utils.get_default_target_namespace()"
   ]
  },
  {
   "cell_type": "code",
   "execution_count": 13,
   "metadata": {},
   "outputs": [],
   "source": [
    "kclient = kc.KatibClient()"
   ]
  },
  {
   "cell_type": "markdown",
   "metadata": {},
   "source": [
    "## Create Experiment"
   ]
  },
  {
   "cell_type": "code",
   "execution_count": 14,
   "metadata": {},
   "outputs": [
    {
     "data": {
      "text/html": [
       "Katib Experiment link <a href=\"/_/katib/#/katib/hp_monitor/anonymous/tfjob-experiment\" target=\"_blank\">here</a>"
      ],
      "text/plain": [
       "<IPython.core.display.HTML object>"
      ]
     },
     "metadata": {},
     "output_type": "display_data"
    },
    {
     "data": {
      "text/plain": [
       "{'apiVersion': 'kubeflow.org/v1alpha3',\n",
       " 'kind': 'Experiment',\n",
       " 'metadata': {'creationTimestamp': '2020-03-31T08:44:20Z',\n",
       "  'generation': 1,\n",
       "  'name': 'tfjob-experiment',\n",
       "  'namespace': 'anonymous',\n",
       "  'resourceVersion': '19279496',\n",
       "  'selfLink': '/apis/kubeflow.org/v1alpha3/namespaces/anonymous/experiments/tfjob-experiment',\n",
       "  'uid': 'd0a61ede-732b-11ea-bedf-42010aa00fec'},\n",
       " 'spec': {'algorithm': {'algorithmName': 'random', 'algorithmSettings': [{}]},\n",
       "  'maxFailedTrialCount': 3,\n",
       "  'maxTrialCount': 12,\n",
       "  'metricsCollectorSpec': {'collector': {'kind': 'TensorFlowEvent'},\n",
       "   'source': {'fileSystemPath': {'kind': 'Directory',\n",
       "     'path': '/var/log/katib/tfevent/'},\n",
       "    'kind': '/train',\n",
       "    'path': 'Directory'}},\n",
       "  'objective': {'goal': 0.9999,\n",
       "   'objectiveMetricName': 'accuracy_1',\n",
       "   'type': 'maximize'},\n",
       "  'parallelTrialCount': 4,\n",
       "  'parameters': [{'feasibleSpace': {'max': '200', 'min': '100'},\n",
       "    'name': '--batch-size',\n",
       "    'parameterType': 'int'}],\n",
       "  'trialTemplate': {'goTemplate': {'templateSpec': {'configMapName': 'trial-template',\n",
       "     'configMapNamespace': 'kubeflow',\n",
       "     'templatePath': 'defaultTrialTemplate.yaml'}},\n",
       "   'retain': True}}}"
      ]
     },
     "execution_count": 14,
     "metadata": {},
     "output_type": "execute_result"
    }
   ],
   "source": [
    "kclient.create_experiment(experiment,namespace=namespace)"
   ]
  },
  {
   "cell_type": "markdown",
   "metadata": {},
   "source": [
    "## Get Single Experiment"
   ]
  },
  {
   "cell_type": "code",
   "execution_count": 15,
   "metadata": {},
   "outputs": [
    {
     "data": {
      "text/plain": [
       "{'apiVersion': 'kubeflow.org/v1alpha3',\n",
       " 'kind': 'Experiment',\n",
       " 'metadata': {'creationTimestamp': '2020-03-31T08:44:20Z',\n",
       "  'finalizers': ['update-prometheus-metrics'],\n",
       "  'generation': 2,\n",
       "  'name': 'tfjob-experiment',\n",
       "  'namespace': 'anonymous',\n",
       "  'resourceVersion': '19279498',\n",
       "  'selfLink': '/apis/kubeflow.org/v1alpha3/namespaces/anonymous/experiments/tfjob-experiment',\n",
       "  'uid': 'd0a61ede-732b-11ea-bedf-42010aa00fec'},\n",
       " 'spec': {'algorithm': {'algorithmName': 'random', 'algorithmSettings': [{}]},\n",
       "  'maxFailedTrialCount': 3,\n",
       "  'maxTrialCount': 12,\n",
       "  'metricsCollectorSpec': {'collector': {'kind': 'TensorFlowEvent'},\n",
       "   'source': {'fileSystemPath': {'kind': 'Directory',\n",
       "     'path': '/var/log/katib/tfevent/'}}},\n",
       "  'objective': {'goal': 0.9999,\n",
       "   'objectiveMetricName': 'accuracy_1',\n",
       "   'type': 'maximize'},\n",
       "  'parallelTrialCount': 4,\n",
       "  'parameters': [{'feasibleSpace': {'max': '200', 'min': '100'},\n",
       "    'name': '--batch-size',\n",
       "    'parameterType': 'int'}],\n",
       "  'trialTemplate': {'goTemplate': {'templateSpec': {'configMapName': 'trial-template',\n",
       "     'configMapNamespace': 'kubeflow',\n",
       "     'templatePath': 'defaultTrialTemplate.yaml'}},\n",
       "   'retain': True}},\n",
       " 'status': {'completionTime': None,\n",
       "  'conditions': [{'lastTransitionTime': '2020-03-31T08:44:20Z',\n",
       "    'lastUpdateTime': '2020-03-31T08:44:20Z',\n",
       "    'message': 'Experiment is created',\n",
       "    'reason': 'ExperimentCreated',\n",
       "    'status': 'True',\n",
       "    'type': 'Created'}],\n",
       "  'currentOptimalTrial': {'bestTrialName': '',\n",
       "   'observation': {'metrics': None},\n",
       "   'parameterAssignments': None},\n",
       "  'startTime': '2020-03-31T08:44:20Z'}}"
      ]
     },
     "execution_count": 15,
     "metadata": {},
     "output_type": "execute_result"
    }
   ],
   "source": [
    "kclient.get_experiment(name=\"tfjob-experiment\", namespace=namespace)"
   ]
  },
  {
   "cell_type": "markdown",
   "metadata": {},
   "source": [
    "## Get all Experiments"
   ]
  },
  {
   "cell_type": "code",
   "execution_count": 16,
   "metadata": {},
   "outputs": [
    {
     "data": {
      "text/plain": [
       "{'apiVersion': 'kubeflow.org/v1alpha3',\n",
       " 'items': [{'apiVersion': 'kubeflow.org/v1alpha3',\n",
       "   'kind': 'Experiment',\n",
       "   'metadata': {'creationTimestamp': '2020-03-30T09:15:16Z',\n",
       "    'finalizers': ['update-prometheus-metrics'],\n",
       "    'generation': 1,\n",
       "    'name': 'bayesianoptimizationjob',\n",
       "    'namespace': 'anonymous',\n",
       "    'resourceVersion': '18661856',\n",
       "    'selfLink': '/apis/kubeflow.org/v1alpha3/namespaces/anonymous/experiments/bayesianoptimizationjob',\n",
       "    'uid': 'f82b3ae2-7266-11ea-bedf-42010aa00fec'},\n",
       "   'spec': {'algorithm': {'algorithmName': 'bayesianoptimization',\n",
       "     'algorithmSettings': [{'name': 'random_state', 'value': '10'}]},\n",
       "    'maxFailedTrialCount': 3,\n",
       "    'maxTrialCount': 5,\n",
       "    'metricsCollectorSpec': {'collector': {'kind': 'StdOut'}},\n",
       "    'objective': {'goal': 0.9999,\n",
       "     'objectiveMetricName': 'Validation-accuracy',\n",
       "     'type': 'maximize'},\n",
       "    'parallelTrialCount': 5,\n",
       "    'parameters': [{'feasibleSpace': {'list': ['sgd', 'adam', 'ftrl']},\n",
       "      'name': '--optimizer',\n",
       "      'parameterType': 'categorical'},\n",
       "     {'feasibleSpace': {'max': '0.03', 'min': '0.01'},\n",
       "      'name': '--lr',\n",
       "      'parameterType': 'double'},\n",
       "     {'feasibleSpace': {'max': '5', 'min': '2'},\n",
       "      'name': '--num-layers',\n",
       "      'parameterType': 'int'}],\n",
       "    'trialTemplate': {'goTemplate': {'rawTemplate': 'apiVersion: \"batch/v1\"\\nkind: Job\\nmetadata:\\n  name: {{.Trial}}\\n  namespace: {{.NameSpace}}\\nspec:\\n  template:\\n    spec:\\n      containers:\\n      - name: {{.Trial}}\\n        image: docker.io/kubeflowkatib/mxnet-mnist\\n        command:\\n        - \"python3\"\\n        - \"/opt/mxnet-mnist/mnist.py\"\\n        - \"--batch-size=64\"\\n        {{- with .HyperParameters}}\\n        {{- range .}}\\n        - \"{{.Name}}={{.Value}}\"\\n        {{- end}}\\n        {{- end}}\\n      restartPolicy: Never'}}},\n",
       "   'status': {'completionTime': '2020-03-30T09:24:22Z',\n",
       "    'conditions': [{'lastTransitionTime': '2020-03-30T09:15:16Z',\n",
       "      'lastUpdateTime': '2020-03-30T09:15:16Z',\n",
       "      'message': 'Experiment is created',\n",
       "      'reason': 'ExperimentCreated',\n",
       "      'status': 'True',\n",
       "      'type': 'Created'},\n",
       "     {'lastTransitionTime': '2020-03-30T09:24:22Z',\n",
       "      'lastUpdateTime': '2020-03-30T09:24:22Z',\n",
       "      'message': 'Experiment is running',\n",
       "      'reason': 'ExperimentRunning',\n",
       "      'status': 'False',\n",
       "      'type': 'Running'},\n",
       "     {'lastTransitionTime': '2020-03-30T09:24:22Z',\n",
       "      'lastUpdateTime': '2020-03-30T09:24:22Z',\n",
       "      'message': 'Experiment has succeeded because max trial count has reached',\n",
       "      'reason': 'ExperimentMaxTrialsReached',\n",
       "      'status': 'True',\n",
       "      'type': 'Succeeded'}],\n",
       "    'currentOptimalTrial': {'bestTrialName': 'bayesianoptimizationjob-rm8vmbl7',\n",
       "     'observation': {'metrics': [{'name': 'Validation-accuracy',\n",
       "        'value': 0.978304}]},\n",
       "     'parameterAssignments': [{'name': '--optimizer', 'value': 'sgd'},\n",
       "      {'name': '--lr', 'value': '0.021196507397563884'},\n",
       "      {'name': '--num-layers', 'value': '4'}]},\n",
       "    'startTime': '2020-03-30T09:15:16Z',\n",
       "    'succeededTrialList': ['bayesianoptimizationjob-6mkpp94q',\n",
       "     'bayesianoptimizationjob-mbpdcwk5',\n",
       "     'bayesianoptimizationjob-n7ndmrg6',\n",
       "     'bayesianoptimizationjob-rm8vmbl7',\n",
       "     'bayesianoptimizationjob-t6svz868'],\n",
       "    'trials': 5,\n",
       "    'trialsSucceeded': 5}},\n",
       "  {'apiVersion': 'kubeflow.org/v1alpha3',\n",
       "   'kind': 'Experiment',\n",
       "   'metadata': {'creationTimestamp': '2020-03-30T11:07:48Z',\n",
       "    'finalizers': ['update-prometheus-metrics'],\n",
       "    'generation': 1,\n",
       "    'name': 'bayesianoptimizationjob1',\n",
       "    'namespace': 'anonymous',\n",
       "    'resourceVersion': '18712347',\n",
       "    'selfLink': '/apis/kubeflow.org/v1alpha3/namespaces/anonymous/experiments/bayesianoptimizationjob1',\n",
       "    'uid': 'b0d1845c-7276-11ea-bedf-42010aa00fec'},\n",
       "   'spec': {'algorithm': {'algorithmName': 'bayesianoptimization',\n",
       "     'algorithmSettings': [{'name': 'random_state', 'value': '10'}]},\n",
       "    'maxFailedTrialCount': 3,\n",
       "    'maxTrialCount': 5,\n",
       "    'metricsCollectorSpec': {'collector': {'kind': 'StdOut'}},\n",
       "    'objective': {'goal': 0.9999,\n",
       "     'objectiveMetricName': 'Validation-accuracy',\n",
       "     'type': 'maximize'},\n",
       "    'parallelTrialCount': 5,\n",
       "    'parameters': [{'feasibleSpace': {'list': ['sgd', 'adam', 'ftrl']},\n",
       "      'name': '--optimizer',\n",
       "      'parameterType': 'categorical'},\n",
       "     {'feasibleSpace': {'max': '0.03', 'min': '0.01'},\n",
       "      'name': '--lr',\n",
       "      'parameterType': 'double'},\n",
       "     {'feasibleSpace': {'max': '5', 'min': '2'},\n",
       "      'name': '--num-layers',\n",
       "      'parameterType': 'int'}],\n",
       "    'trialTemplate': {'goTemplate': {'rawTemplate': 'apiVersion: \"batch/v1\"\\nkind: Job\\nmetadata:\\n  name: {{.Trial}}\\n  namespace: {{.NameSpace}}\\nspec:\\n  template:\\n    spec:\\n      containers:\\n      - name: {{.Trial}}\\n        image: docker.io/kubeflowkatib/mxnet-mnist\\n        command:\\n        - \"python3\"\\n        - \"/opt/mxnet-mnist/mnist.py\"\\n        - \"--batch-size=64\"\\n        {{- with .HyperParameters}}\\n        {{- range .}}\\n        - \"{{.Name}}={{.Value}}\"\\n        {{- end}}\\n        {{- end}}\\n      restartPolicy: Never'}}},\n",
       "   'status': {'completionTime': '2020-03-30T11:17:44Z',\n",
       "    'conditions': [{'lastTransitionTime': '2020-03-30T11:07:48Z',\n",
       "      'lastUpdateTime': '2020-03-30T11:07:48Z',\n",
       "      'message': 'Experiment is created',\n",
       "      'reason': 'ExperimentCreated',\n",
       "      'status': 'True',\n",
       "      'type': 'Created'},\n",
       "     {'lastTransitionTime': '2020-03-30T11:17:44Z',\n",
       "      'lastUpdateTime': '2020-03-30T11:17:44Z',\n",
       "      'message': 'Experiment is running',\n",
       "      'reason': 'ExperimentRunning',\n",
       "      'status': 'False',\n",
       "      'type': 'Running'},\n",
       "     {'lastTransitionTime': '2020-03-30T11:17:44Z',\n",
       "      'lastUpdateTime': '2020-03-30T11:17:44Z',\n",
       "      'message': 'Experiment has succeeded because max trial count has reached',\n",
       "      'reason': 'ExperimentMaxTrialsReached',\n",
       "      'status': 'True',\n",
       "      'type': 'Succeeded'}],\n",
       "    'currentOptimalTrial': {'bestTrialName': 'bayesianoptimizationjob1-q4rkr7zh',\n",
       "     'observation': {'metrics': [{'name': 'Validation-accuracy',\n",
       "        'value': 0.979598}]},\n",
       "     'parameterAssignments': [{'name': '--optimizer', 'value': 'sgd'},\n",
       "      {'name': '--lr', 'value': '0.021196507397563884'},\n",
       "      {'name': '--num-layers', 'value': '4'}]},\n",
       "    'startTime': '2020-03-30T11:07:48Z',\n",
       "    'succeededTrialList': ['bayesianoptimizationjob1-7mcx7h29',\n",
       "     'bayesianoptimizationjob1-dsclgwt9',\n",
       "     'bayesianoptimizationjob1-q4rkr7zh',\n",
       "     'bayesianoptimizationjob1-z67xx857',\n",
       "     'bayesianoptimizationjob1-zvsvbgbl'],\n",
       "    'trials': 5,\n",
       "    'trialsSucceeded': 5}},\n",
       "  {'apiVersion': 'kubeflow.org/v1alpha3',\n",
       "   'kind': 'Experiment',\n",
       "   'metadata': {'creationTimestamp': '2020-03-31T06:39:14Z',\n",
       "    'finalizers': ['update-prometheus-metrics'],\n",
       "    'generation': 1,\n",
       "    'name': 'blerssi-bayesopt',\n",
       "    'namespace': 'anonymous',\n",
       "    'resourceVersion': '19231837',\n",
       "    'selfLink': '/apis/kubeflow.org/v1alpha3/namespaces/anonymous/experiments/blerssi-bayesopt',\n",
       "    'uid': '5638e930-731a-11ea-bedf-42010aa00fec'},\n",
       "   'spec': {'algorithm': {'algorithmName': 'bayesianoptimization',\n",
       "     'algorithmSettings': [{'name': 'burn_in', 'value': '5'}]},\n",
       "    'maxFailedTrialCount': 9,\n",
       "    'maxTrialCount': 12,\n",
       "    'metricsCollectorSpec': {'collector': {'kind': 'StdOut'}},\n",
       "    'objective': {'goal': 1.3,\n",
       "     'objectiveMetricName': 'l2_loss',\n",
       "     'type': 'minimize'},\n",
       "    'parallelTrialCount': 2,\n",
       "    'parameters': [{'feasibleSpace': {'max': '0.002', 'min': '0.001'},\n",
       "      'name': '--learning_rate',\n",
       "      'parameterType': 'double'},\n",
       "     {'feasibleSpace': {'max': '0.93', 'min': '0.88'},\n",
       "      'name': '--beta1',\n",
       "      'parameterType': 'double'}],\n",
       "    'trialTemplate': {'goTemplate': {'rawTemplate': 'apiVersion: \"batch/v1\"\\nkind: Job\\nmetadata:\\n  name: {{.Trial}}\\n  namespace: {{.NameSpace}}\\nspec:\\n  template:\\n    spec:\\n      containers:\\n      - name: {{.Trial}}\\n        image: docker.io/johnugeorge/cnn-blerssi:0.3\\n        command:\\n        - \"python3\"\\n        - \"/opt/blerssi-cnn-adam.py\"\\n        {{- with .HyperParameters}}\\n        {{- range .}}\\n        - \"{{.Name}}={{.Value}}\"\\n        {{- end}}\\n        {{- end}}\\n      restartPolicy: Never'}}},\n",
       "   'status': {'completionTime': '2020-03-31T06:55:11Z',\n",
       "    'conditions': [{'lastTransitionTime': '2020-03-31T06:39:14Z',\n",
       "      'lastUpdateTime': '2020-03-31T06:39:14Z',\n",
       "      'message': 'Experiment is created',\n",
       "      'reason': 'ExperimentCreated',\n",
       "      'status': 'True',\n",
       "      'type': 'Created'},\n",
       "     {'lastTransitionTime': '2020-03-31T06:55:11Z',\n",
       "      'lastUpdateTime': '2020-03-31T06:55:11Z',\n",
       "      'message': 'Experiment is running',\n",
       "      'reason': 'ExperimentRunning',\n",
       "      'status': 'False',\n",
       "      'type': 'Running'},\n",
       "     {'lastTransitionTime': '2020-03-31T06:55:11Z',\n",
       "      'lastUpdateTime': '2020-03-31T06:55:11Z',\n",
       "      'message': 'Experiment has succeeded because max trial count has reached',\n",
       "      'reason': 'ExperimentMaxTrialsReached',\n",
       "      'status': 'True',\n",
       "      'type': 'Succeeded'}],\n",
       "    'currentOptimalTrial': {'bestTrialName': 'blerssi-bayesopt-drgxzt7t',\n",
       "     'observation': {'metrics': [{'name': 'l2_loss',\n",
       "        'value': 2.11414010362215}]},\n",
       "     'parameterAssignments': [{'name': '--learning_rate',\n",
       "       'value': '0.0016541997553521574'},\n",
       "      {'name': '--beta1', 'value': '0.9167887608923336'}]},\n",
       "    'startTime': '2020-03-31T06:39:14Z',\n",
       "    'succeededTrialList': ['blerssi-bayesopt-42dql75j',\n",
       "     'blerssi-bayesopt-5l7zfsp4',\n",
       "     'blerssi-bayesopt-drgxzt7t',\n",
       "     'blerssi-bayesopt-f57vtzjk',\n",
       "     'blerssi-bayesopt-ffslt6g9',\n",
       "     'blerssi-bayesopt-hj6cpcln',\n",
       "     'blerssi-bayesopt-jpffc899',\n",
       "     'blerssi-bayesopt-lvgm2xpn',\n",
       "     'blerssi-bayesopt-nlcvwj5q',\n",
       "     'blerssi-bayesopt-qcpc95qf',\n",
       "     'blerssi-bayesopt-qqx94th7',\n",
       "     'blerssi-bayesopt-t5b6g5rp'],\n",
       "    'trials': 12,\n",
       "    'trialsSucceeded': 12}},\n",
       "  {'apiVersion': 'kubeflow.org/v1alpha3',\n",
       "   'kind': 'Experiment',\n",
       "   'metadata': {'creationTimestamp': '2020-03-31T08:44:20Z',\n",
       "    'finalizers': ['update-prometheus-metrics'],\n",
       "    'generation': 2,\n",
       "    'name': 'tfjob-experiment',\n",
       "    'namespace': 'anonymous',\n",
       "    'resourceVersion': '19279802',\n",
       "    'selfLink': '/apis/kubeflow.org/v1alpha3/namespaces/anonymous/experiments/tfjob-experiment',\n",
       "    'uid': 'd0a61ede-732b-11ea-bedf-42010aa00fec'},\n",
       "   'spec': {'algorithm': {'algorithmName': 'random',\n",
       "     'algorithmSettings': [{}]},\n",
       "    'maxFailedTrialCount': 3,\n",
       "    'maxTrialCount': 12,\n",
       "    'metricsCollectorSpec': {'collector': {'kind': 'TensorFlowEvent'},\n",
       "     'source': {'fileSystemPath': {'kind': 'Directory',\n",
       "       'path': '/var/log/katib/tfevent/'}}},\n",
       "    'objective': {'goal': 0.9999,\n",
       "     'objectiveMetricName': 'accuracy_1',\n",
       "     'type': 'maximize'},\n",
       "    'parallelTrialCount': 4,\n",
       "    'parameters': [{'feasibleSpace': {'max': '200', 'min': '100'},\n",
       "      'name': '--batch-size',\n",
       "      'parameterType': 'int'}],\n",
       "    'trialTemplate': {'goTemplate': {'templateSpec': {'configMapName': 'trial-template',\n",
       "       'configMapNamespace': 'kubeflow',\n",
       "       'templatePath': 'defaultTrialTemplate.yaml'}},\n",
       "     'retain': True}},\n",
       "   'status': {'conditions': [{'lastTransitionTime': '2020-03-31T08:44:20Z',\n",
       "      'lastUpdateTime': '2020-03-31T08:44:20Z',\n",
       "      'message': 'Experiment is created',\n",
       "      'reason': 'ExperimentCreated',\n",
       "      'status': 'True',\n",
       "      'type': 'Created'},\n",
       "     {'lastTransitionTime': '2020-03-31T08:44:40Z',\n",
       "      'lastUpdateTime': '2020-03-31T08:44:40Z',\n",
       "      'message': 'Experiment is running',\n",
       "      'reason': 'ExperimentRunning',\n",
       "      'status': 'True',\n",
       "      'type': 'Running'}],\n",
       "    'currentOptimalTrial': {'bestTrialName': '',\n",
       "     'observation': {'metrics': None},\n",
       "     'parameterAssignments': None},\n",
       "    'runningTrialList': ['tfjob-experiment-l6gfrps2',\n",
       "     'tfjob-experiment-nwrkfsgh',\n",
       "     'tfjob-experiment-tpmmmrrp',\n",
       "     'tfjob-experiment-zhk7p56g'],\n",
       "    'startTime': '2020-03-31T08:44:20Z',\n",
       "    'trials': 4,\n",
       "    'trialsRunning': 4}}],\n",
       " 'kind': 'ExperimentList',\n",
       " 'metadata': {'continue': '',\n",
       "  'resourceVersion': '19279827',\n",
       "  'selfLink': '/apis/kubeflow.org/v1alpha3/namespaces/anonymous/experiments'}}"
      ]
     },
     "execution_count": 16,
     "metadata": {},
     "output_type": "execute_result"
    }
   ],
   "source": [
    "kclient.get_experiment(namespace=namespace)"
   ]
  },
  {
   "cell_type": "markdown",
   "metadata": {},
   "source": [
    "## Get experiment status"
   ]
  },
  {
   "cell_type": "code",
   "execution_count": 17,
   "metadata": {},
   "outputs": [
    {
     "data": {
      "text/plain": [
       "'Running'"
      ]
     },
     "execution_count": 17,
     "metadata": {},
     "output_type": "execute_result"
    }
   ],
   "source": [
    "kclient.get_experiment_status(name=\"tfjob-experiment\", namespace=namespace)"
   ]
  },
  {
   "cell_type": "markdown",
   "metadata": {},
   "source": [
    "## Check whether experiment has succeeded"
   ]
  },
  {
   "cell_type": "code",
   "execution_count": 18,
   "metadata": {},
   "outputs": [
    {
     "data": {
      "text/plain": [
       "False"
      ]
     },
     "execution_count": 18,
     "metadata": {},
     "output_type": "execute_result"
    }
   ],
   "source": [
    "kclient.is_experiment_succeeded(name=\"tfjob-experiment\", namespace=namespace)"
   ]
  },
  {
   "cell_type": "markdown",
   "metadata": {},
   "source": [
    "## Delete experiment"
   ]
  },
  {
   "cell_type": "code",
   "execution_count": null,
   "metadata": {},
   "outputs": [],
   "source": [
    "# kclient.delete_experiment(name=\"tfjob-example\", namespace=namespace)"
   ]
  },
  {
   "cell_type": "markdown",
   "metadata": {},
   "source": [
    "## List Trials of an experiment"
   ]
  },
  {
   "cell_type": "code",
   "execution_count": 23,
   "metadata": {},
   "outputs": [
    {
     "data": {
      "text/plain": [
       "[{'name': 'tfjob-experiment-l6gfrps2', 'status': 'Succeeded'},\n",
       " {'name': 'tfjob-experiment-nwrkfsgh', 'status': 'Succeeded'},\n",
       " {'name': 'tfjob-experiment-tpmmmrrp', 'status': 'Succeeded'},\n",
       " {'name': 'tfjob-experiment-zhk7p56g', 'status': 'Succeeded'}]"
      ]
     },
     "execution_count": 23,
     "metadata": {},
     "output_type": "execute_result"
    }
   ],
   "source": [
    "kclient.list_trials(name=\"tfjob-experiment\", namespace=namespace)"
   ]
  },
  {
   "cell_type": "markdown",
   "metadata": {},
   "source": [
    "## List all Experiments"
   ]
  },
  {
   "cell_type": "code",
   "execution_count": 25,
   "metadata": {},
   "outputs": [
    {
     "data": {
      "text/plain": [
       "[{'name': 'bayesianoptimizationjob', 'status': 'Succeeded'},\n",
       " {'name': 'bayesianoptimizationjob1', 'status': 'Succeeded'},\n",
       " {'name': 'blerssi-bayesopt', 'status': 'Succeeded'},\n",
       " {'name': 'tfjob-experiment', 'status': 'Running'}]"
      ]
     },
     "execution_count": 25,
     "metadata": {},
     "output_type": "execute_result"
    }
   ],
   "source": [
    "kclient.list_experiments(namespace=namespace)"
   ]
  },
  {
   "cell_type": "markdown",
   "metadata": {},
   "source": [
    "## Get Optimal Hyperparameters"
   ]
  },
  {
   "cell_type": "code",
   "execution_count": 26,
   "metadata": {},
   "outputs": [
    {
     "data": {
      "text/plain": [
       "{'status': 'Running',\n",
       " 'currentOptimalTrial': {'bestTrialName': '',\n",
       "  'observation': {'metrics': None},\n",
       "  'parameterAssignments': None}}"
      ]
     },
     "execution_count": 26,
     "metadata": {},
     "output_type": "execute_result"
    }
   ],
   "source": [
    "kclient.get_optimal_hyperparmeters(name=\"tfjob-experiment\",namespace=namespace)\n"
   ]
  }
 ],
 "metadata": {
  "kernelspec": {
   "display_name": "Python 3",
   "language": "python",
   "name": "python3"
  },
  "language_info": {
   "codemirror_mode": {
    "name": "ipython",
    "version": 3
   },
   "file_extension": ".py",
   "mimetype": "text/x-python",
   "name": "python",
   "nbconvert_exporter": "python",
   "pygments_lexer": "ipython3",
   "version": "3.6.5"
  }
 },
 "nbformat": 4,
 "nbformat_minor": 2
}
